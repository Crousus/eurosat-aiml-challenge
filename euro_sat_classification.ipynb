{
 "cells": [
  {
   "cell_type": "markdown",
   "source": [
    "# Eurosat Coding Challenge\n",
    "\n",
    "Authors: Johannes Wenz, Philipp John"
   ],
   "metadata": {
    "collapsed": false
   }
  },
  {
   "cell_type": "code",
   "execution_count": 2,
   "outputs": [],
   "source": [
    "# import standard python libraries\n",
    "from datetime import datetime\n",
    "import numpy as np\n",
    "import csv\n",
    "from torchvision import transforms\n",
    "from torchvision.models import resnet34\n",
    "from torch.utils.data import Dataset, random_split\n",
    "from tqdm import tqdm\n",
    "\n",
    "# import the PyTorch deep learning library\n",
    "import torch\n",
    "from torch import nn\n",
    "\n",
    "\n",
    "# import matplotlib, seaborn, and PIL data visualization libary\n",
    "import matplotlib.pyplot as plt\n",
    "%matplotlib inline\n",
    "\n",
    "import rasterio as rio\n",
    "from rasterio.plot import reshape_as_image"
   ],
   "metadata": {
    "collapsed": false,
    "ExecuteTime": {
     "end_time": "2023-05-21T14:49:35.023833200Z",
     "start_time": "2023-05-21T14:49:34.783602400Z"
    }
   }
  },
  {
   "cell_type": "markdown",
   "source": [
    "## Load data"
   ],
   "metadata": {
    "collapsed": false
   }
  },
  {
   "cell_type": "code",
   "execution_count": null,
   "outputs": [],
   "source": [
    "import os\n",
    "import requests\n",
    "import shutil\n",
    "\n",
    "#If drive file in drive is available load it from there, otherwise download from source\n",
    "drive_path = \"/content/drive/MyDrive/MLFiles/EuroSATallBands.zip\"\n",
    "url = \"https://madm.dfki.de/files/sentinel/EuroSATallBands.zip\"\n",
    "\n",
    "if os.path.isfile(drive_path):\n",
    "  shutil.copyfile(drive_path, \"EuroSATallBands.zip\")\n",
    "else:\n",
    "  # Download the file\n",
    "  response = requests.get(url, stream=True, verify=False)\n",
    "  response.raise_for_status()  # Raise exception if invalid response\n",
    "  with open(\"EuroSATallBands.zip\", \"wb\") as out_file:\n",
    "      out_file.write(response.content)\n",
    "  print(\"File downloaded successfully.\")"
   ],
   "metadata": {
    "collapsed": false
   }
  },
  {
   "cell_type": "code",
   "execution_count": null,
   "outputs": [],
   "source": [
    "!unzip -q EuroSATallBands.zip\n",
    "!mv ds/images/remote_sensing/otherDatasets/sentinel_2/tif eurosat"
   ],
   "metadata": {
    "collapsed": false
   }
  },
  {
   "cell_type": "code",
   "execution_count": 3,
   "outputs": [],
   "source": [
    "eurosat_dir = \"EuroSATallBands/ds/images/remote_sensing/otherDatasets/sentinel_2/tif\"\n",
    "testset_dir = \"testset/testset\""
   ],
   "metadata": {
    "collapsed": false,
    "ExecuteTime": {
     "end_time": "2023-05-21T14:49:38.150569700Z",
     "start_time": "2023-05-21T14:49:38.141488900Z"
    }
   }
  },
  {
   "cell_type": "code",
   "execution_count": null,
   "outputs": [],
   "source": [
    "!wget https://cdn.discordapp.com/attachments/1006556110880264319/1105245065506467861/aiml-coding-challenge-fs23_1.zip\n",
    "!unzip -q aiml-coding-challenge-fs23_1.zip\n",
    "!mv testset testset2\n",
    "!mv testset2/testset testset\n",
    "!rm -r testset2\n",
    "!pip install rasterio"
   ],
   "metadata": {
    "collapsed": false
   }
  },
  {
   "cell_type": "markdown",
   "source": [
    "## Setup\n",
    "\n",
    "Setting random seeds for reproducibility and dictionaries that map class names to their respective numerical labels and vice versa"
   ],
   "metadata": {
    "collapsed": false
   }
  },
  {
   "cell_type": "code",
   "execution_count": 4,
   "outputs": [
    {
     "name": "stdout",
     "output_type": "stream",
     "text": [
      "[LOG] notebook with cuda computation enabled\n"
     ]
    }
   ],
   "source": [
    "# init deterministic seed\n",
    "SEED_VALUE = 1337\n",
    "\n",
    "np.random.seed(SEED_VALUE) # set numpy seed\n",
    "torch.manual_seed(SEED_VALUE) # set pytorch seed CPU\n",
    "# init deterministic GPU seed\n",
    "torch.cuda.manual_seed(SEED_VALUE)\n",
    "\n",
    "# set cpu or gpu enabled device\n",
    "DEVICE = torch.device('cuda' if torch.cuda.is_available() else 'cpu').type\n",
    "\n",
    "# log type of device enabled\n",
    "print('[LOG] notebook with {} computation enabled'.format(str(DEVICE)))\n",
    "\n",
    "IMAGE_SIZE = 224"
   ],
   "metadata": {
    "collapsed": false,
    "ExecuteTime": {
     "end_time": "2023-05-21T14:49:39.795531200Z",
     "start_time": "2023-05-21T14:49:39.762278600Z"
    }
   }
  },
  {
   "cell_type": "code",
   "execution_count": 5,
   "outputs": [],
   "source": [
    "class_to_index = {\n",
    "    \"AnnualCrop\": 0,\n",
    "    \"Forest\": 1,\n",
    "    \"HerbaceousVegetation\": 2,\n",
    "    \"Highway\": 3,\n",
    "    \"Industrial\": 4,\n",
    "    \"Pasture\": 5,\n",
    "    \"PermanentCrop\": 6,\n",
    "    \"Residential\": 7,\n",
    "    \"River\": 8,\n",
    "    \"SeaLake\": 9\n",
    "}\n",
    "\n",
    "classes_idx = {\n",
    "    0: 'AnnualCrop',\n",
    "    1: 'Forest',\n",
    "    2: 'HerbaceousVegetation',\n",
    "    3: 'Highway',\n",
    "    4: 'Industrial',\n",
    "    5: 'Pasture',\n",
    "    6: 'PermanentCrop',\n",
    "    7: 'Residential',\n",
    "    8: 'River',\n",
    "    9: 'SeaLake'\n",
    "}\n",
    "\n",
    "CLASSES = [\n",
    "    \"AnnualCrop\",\n",
    "    \"Forest\",\n",
    "    \"HerbaceousVegetation\",\n",
    "    \"Highway\",\n",
    "    \"Industrial\",\n",
    "    \"Pasture\",\n",
    "    \"PermanentCrop\",\n",
    "    \"Residential\",\n",
    "    \"River\",\n",
    "    \"SeaLake\"]"
   ],
   "metadata": {
    "collapsed": false,
    "ExecuteTime": {
     "end_time": "2023-05-21T14:49:40.848321Z",
     "start_time": "2023-05-21T14:49:40.830516700Z"
    }
   }
  },
  {
   "cell_type": "markdown",
   "source": [
    "## Dataloader\n",
    "\n",
    "Load and preprocess the data from the given directories"
   ],
   "metadata": {
    "collapsed": false
   }
  },
  {
   "cell_type": "code",
   "execution_count": 101,
   "outputs": [],
   "source": [
    "class CustomImageDataset(Dataset):\n",
    "    def __init__(self, transform=None):\n",
    "        self.transform = transform\n",
    "\n",
    "        self.transform = transform\n",
    "        files_and_folders = os.listdir(eurosat_dir)\n",
    "        self.folder_names = [f for f in files_and_folders if os.path.isdir(os.path.join(eurosat_dir, f))]\n",
    "        self.name_to_id = {name: id for (id, name) in enumerate(sorted(self.folder_names))}\n",
    "\n",
    "        self.all_paths = []\n",
    "        self.all_label = []\n",
    "        for root, dirs, files in os.walk(eurosat_dir):\n",
    "            # iterate through all files in the current directory\n",
    "            for file in files:\n",
    "                # get the path of the file\n",
    "\n",
    "                file_path = os.path.join(root, file)\n",
    "                file_path = file_path.replace(\"\\\\\\\\\", \"/\")\n",
    "\n",
    "                if not file_path.endswith(\".tif\"):\n",
    "                    continue\n",
    "                # print the path of the fil\n",
    "                self.all_paths.append(file_path)\n",
    "                self.all_label.append(self.name_to_id[root.replace(\"\\\\\", \"/\").split(\"/\")[-1]])\n",
    "\n",
    "    def __len__(self):\n",
    "        return len(self.all_paths)\n",
    "\n",
    "    # TODO Potentially test that the channels get correctly loaded and transformed\n",
    "    def __getitem__(self, idx):\n",
    "        path_i = self.all_paths[idx]\n",
    "        label = self.all_label[idx]\n",
    "        # TODO Make if for file type - Handle test data\n",
    "        with rio.open(path_i, \"r\") as d:\n",
    "            image = d.read([2,3,4,5,6,7,8,11,12,13]).astype(float)\n",
    "            image = reshape_as_image(image)\n",
    "        #image = default_loader(img_path)\n",
    "\n",
    "        #image = normalize_for_display(image)\n",
    "\n",
    "        b8 = image[:, :, 7]\n",
    "        b4 = image[:, :, 3]\n",
    "        ndvi = (b8-b4) / (b8+b4)\n",
    "\n",
    "        ndvi = np.nan_to_num(ndvi, 0.001)\n",
    "        ndvi_filter = np.where(ndvi > 0.5, ndvi, 0.001)\n",
    "\n",
    "        image = np.append(image, np.expand_dims(ndvi, axis=2), axis=2)\n",
    "\n",
    "       # ndvi_filter = np.where(ndvi > 0.5, ndvi, 0.001)\n",
    "\n",
    "        image = np.append(image, np.expand_dims(ndvi_filter, axis=2), axis=2)\n",
    "\n",
    "        if self.transform:\n",
    "            image = self.transform(image)\n",
    "        return image, label"
   ],
   "metadata": {
    "collapsed": false,
    "ExecuteTime": {
     "end_time": "2023-05-21T20:42:37.868903100Z",
     "start_time": "2023-05-21T20:42:37.851903300Z"
    }
   }
  },
  {
   "cell_type": "code",
   "execution_count": 102,
   "outputs": [],
   "source": [
    "class TestImageDataset(Dataset):\n",
    "    def __init__(self, transform=None):\n",
    "        self.transform = transform\n",
    "        self.all_paths = []\n",
    "        self.all_label = []\n",
    "        for file in os.listdir(testset_dir):\n",
    "\n",
    "            file_path = os.path.join(testset_dir, file)\n",
    "            if not file_path.endswith(\".npy\"):\n",
    "                continue\n",
    "                # print the path of the fil\n",
    "            self.all_label.append(file.replace(\"test_\", \"\").replace(\".npy\", \"\"))\n",
    "            self.all_paths.append(file_path)\n",
    "\n",
    "    def __len__(self):\n",
    "        return len(self.all_paths)\n",
    "\n",
    "    # TODO Potentially test that the channels get correctly loaded and transformed\n",
    "    def __getitem__(self, idx):\n",
    "        path_i = self.all_paths[idx]\n",
    "        label = self.all_label[idx]\n",
    "        # TODO Make if for file type - Handle test data\n",
    "        arr = np.load(path_i)\n",
    "        arr = arr.astype(np.float32)\n",
    "        arr = np.concatenate((arr[:, :, :8], arr[:, :, 9:]), axis=2)\n",
    "        arr = arr[:, :, 1:]\n",
    "\n",
    "        subarray_1 = arr[..., :7]\n",
    "        subarray_2 = arr[..., 8:]\n",
    "\n",
    "        # Get the subarray at index 8\n",
    "        subarray_8 = arr[..., 8]\n",
    "\n",
    "        # Concatenate the subarrays\n",
    "\n",
    "        b8 = arr[:, :, 7]\n",
    "        b4 = arr[:, :, 3]\n",
    "        ndvi = (b8-b4) / (b8+b4)\n",
    "\n",
    "        ndvi_filter = np.where(ndvi > 0.5, ndvi, 0)\n",
    "\n",
    "        arr = np.append(arr, np.expand_dims(ndvi_filter, axis=2), axis=2)\n",
    "        if self.transform:\n",
    "            arr = self.transform(arr)\n",
    "        return arr, label"
   ],
   "metadata": {
    "collapsed": false,
    "ExecuteTime": {
     "end_time": "2023-05-21T20:42:38.421776400Z",
     "start_time": "2023-05-21T20:42:38.378257300Z"
    }
   }
  },
  {
   "cell_type": "markdown",
   "source": [
    "## Transformations\n",
    "\n",
    "Standard preprocessing steps to help to increase the performance of the model and reduce overfitting"
   ],
   "metadata": {
    "collapsed": false
   }
  },
  {
   "cell_type": "code",
   "execution_count": 106,
   "outputs": [],
   "source": [
    "def calculate_mean_and_std(dataset, num_channels=3):\n",
    "    # Create a DataLoader without shuffling or batching\n",
    "    loader = torch.utils.data.DataLoader(dataset, batch_size=1, shuffle=False)\n",
    "\n",
    "    mean = torch.zeros(num_channels)\n",
    "    std = torch.zeros(num_channels)\n",
    "\n",
    "    for image, _ in tqdm(loader):\n",
    "        # Convert the image to a tensor and normalize it\n",
    "        for i in range(num_channels):\n",
    "            # Calculate the mean and std for each channel\n",
    "            mean[i] += image[:,i,:,:].mean()\n",
    "            std[i] += image[:,i,:,:].std()\n",
    "\n",
    "    # Average across all images\n",
    "    mean /= len(loader)\n",
    "    std /= len(loader)\n",
    "\n",
    "    return mean.tolist(), std.tolist()"
   ],
   "metadata": {
    "collapsed": false,
    "ExecuteTime": {
     "end_time": "2023-05-21T20:44:51.198735200Z",
     "start_time": "2023-05-21T20:44:51.184735600Z"
    }
   }
  },
  {
   "cell_type": "code",
   "execution_count": 49,
   "outputs": [
    {
     "name": "stderr",
     "output_type": "stream",
     "text": [
      "100%|██████████| 27000/27000 [03:28<00:00, 129.74it/s]"
     ]
    },
    {
     "name": "stdout",
     "output_type": "stream",
     "text": [
      "tensor([1117.2059, 1041.8867,  946.5523, 1199.1858, 2003.0063, 2374.0137,\n",
      "        2301.2292,  732.1799, 1820.6937, 1118.2045, 2599.7817]) tensor([153.7739, 187.6983, 278.1248, 227.9235, 355.9322, 455.1331, 530.7792,\n",
      "         98.9300, 378.1604, 303.1066, 502.1653])\n"
     ]
    },
    {
     "name": "stderr",
     "output_type": "stream",
     "text": [
      "\n"
     ]
    }
   ],
   "source": [
    "mean_trainset = CustomImageDataset(transform=transforms.ToTensor())\n",
    "means_train, stds_train = calculate_mean_and_std(mean_trainset, num_channels=11)\n",
    "print(means_train, stds_train)"
   ],
   "metadata": {
    "collapsed": false,
    "ExecuteTime": {
     "end_time": "2023-05-21T17:05:03.090536200Z",
     "start_time": "2023-05-21T17:01:34.813150500Z"
    }
   }
  },
  {
   "cell_type": "code",
   "execution_count": 50,
   "outputs": [],
   "source": [
    "training_data_transformations = transforms.Compose([\n",
    "    transforms.ToTensor(),\n",
    "    transforms.RandomResizedCrop(IMAGE_SIZE),\n",
    "    transforms.RandomHorizontalFlip(),\n",
    "    transforms.RandomVerticalFlip(),\n",
    "    transforms.RandomRotation(90),\n",
    "        transforms.Normalize(mean = means_train, std = stds_train)\n",
    "])"
   ],
   "metadata": {
    "collapsed": false,
    "ExecuteTime": {
     "end_time": "2023-05-21T17:05:11.237849300Z",
     "start_time": "2023-05-21T17:05:11.226846500Z"
    }
   }
  },
  {
   "cell_type": "code",
   "execution_count": 51,
   "outputs": [],
   "source": [
    "validation_transform = transforms.Compose([\n",
    "    transforms.ToTensor(),\n",
    "    transforms.Normalize(mean = means_train, std=stds_train),\n",
    "    transforms.Resize(IMAGE_SIZE)\n",
    "])"
   ],
   "metadata": {
    "collapsed": false,
    "ExecuteTime": {
     "end_time": "2023-05-21T17:05:11.846384800Z",
     "start_time": "2023-05-21T17:05:11.833364200Z"
    }
   }
  },
  {
   "cell_type": "markdown",
   "source": [
    "## Defining the Model\n",
    "\n",
    "Creates a model architecture based on the ResNet34 network which has been pretrained on ImageNet. The model is then slightly modified to better suit the task at hand:\n",
    "\n",
    "1. Adaptated final fully connected layer (\"head\") into a prediction about which of the 10 classes the input image belongs to\n",
    "2. Modified first convolutional layer to accept 11 input channels instead of the original 3 (i.e., all bands vs. only RGB)\n",
    "3. Initialized optimizer for training\n"
   ],
   "metadata": {
    "collapsed": false
   }
  },
  {
   "cell_type": "code",
   "execution_count": 94,
   "outputs": [],
   "source": [
    "def create_model():\n",
    "    # load up the ResNet50 model\n",
    "    new_model = resnet34(pretrained=True)\n",
    "\n",
    "    numFeatures = new_model.fc.in_features\n",
    "\n",
    "    # loop over the modules of the model and set the parameters of\n",
    "    # batch normalization modules as not trainable\n",
    "    for module, param in zip(new_model.modules(), new_model.parameters()):\n",
    "        if isinstance(module, nn.BatchNorm2d):\n",
    "            param.requires_grad = False\n",
    "\n",
    "    # define the network head and attach it to the model\n",
    "    headModel = nn.Sequential(\n",
    "        nn.Linear(numFeatures, len(classes_idx))\n",
    "    )\n",
    "\n",
    "    new_model.fc = headModel\n",
    "\n",
    "    #send to gpu\n",
    "    new_model = new_model.to(DEVICE)\n",
    "\n",
    "    #Modify the input layer to accomodate more channels for the bands\n",
    "    #https://discuss.pytorch.org/t/how-to-modify-the-input-channels-of-a-resnet-model/2623/10\n",
    "\n",
    "    layer = new_model.conv1\n",
    "    new_in_channels = 11\n",
    "    # Creating new Conv2d layer\n",
    "    new_layer = nn.Conv2d(in_channels=new_in_channels,\n",
    "                      out_channels=layer.out_channels,\n",
    "                      kernel_size=layer.kernel_size,\n",
    "                      stride=layer.stride,\n",
    "                      padding=layer.padding,\n",
    "                      bias=layer.bias)\n",
    "\n",
    "    copy_weights = 0 # Here will initialize the weights from new channel with the red channel weights\n",
    "\n",
    "    new_layer_weight = new_layer.weight.clone()\n",
    "    new_layer_weight[:, :layer.in_channels, :, :] = layer.weight.clone()\n",
    "    for i in range(new_in_channels - layer.in_channels):\n",
    "        channel = layer.in_channels + i\n",
    "        new_layer_weight[:, channel:channel+1, :, :] = layer.weight[:, copy_weights:copy_weights+1, :, :].clone()\n",
    "    new_layer.weight = nn.Parameter(new_layer_weight)\n",
    "\n",
    "    new_model.conv1 = new_layer\n",
    "\n",
    "    opt = torch.optim.Adam(new_model.parameters())\n",
    "\n",
    "    return new_model, opt"
   ],
   "metadata": {
    "collapsed": false,
    "ExecuteTime": {
     "end_time": "2023-05-21T20:13:19.228669700Z",
     "start_time": "2023-05-21T20:13:19.219670100Z"
    }
   }
  },
  {
   "cell_type": "markdown",
   "source": [
    " ## Training the Model\n",
    "\n",
    "Trains the model for a given number of epochs. For each epoch, we iterate over the training data, feed the data through the model to get predictions, calculate the loss by comparing the predictions to the true labels, and then backpropagate the error to update the model's parameters.\n",
    "\n",
    "Added logs to see the training loss and accuracy for each mini-batch and each epoch. We save the model parameters at the end of each epoch.\n",
    "\n",
    "If a validation dataloader is provided, the function also evaluates the model on the validation data after each epoch."
   ],
   "metadata": {
    "collapsed": false
   }
  },
  {
   "cell_type": "code",
   "execution_count": 53,
   "outputs": [],
   "source": [
    "# initialize loss function and optimizer\n",
    "lossFunc = nn.CrossEntropyLoss()\n",
    "lossFunc = lossFunc.to(DEVICE)\n"
   ],
   "metadata": {
    "collapsed": false,
    "ExecuteTime": {
     "end_time": "2023-05-21T17:05:19.394899400Z",
     "start_time": "2023-05-21T17:05:19.384897500Z"
    }
   }
  },
  {
   "cell_type": "code",
   "execution_count": 22,
   "outputs": [],
   "source": [
    "#init metrics\n",
    "train_epoch_losses = []\n",
    "accuracy_epochs = []\n",
    "all_mini_losses = []\n",
    "all_mini_accs = []\n",
    "\n",
    "val_losses = []\n",
    "val_accs = []"
   ],
   "metadata": {
    "collapsed": false,
    "ExecuteTime": {
     "end_time": "2023-05-21T15:27:03.244285900Z",
     "start_time": "2023-05-21T15:27:03.236286100Z"
    }
   }
  },
  {
   "cell_type": "code",
   "execution_count": 95,
   "outputs": [],
   "source": [
    "\n",
    "def train_model(epochs, model, train_dataloader,val_dataloader, lossFunc, opt):\n",
    "    global all_mini_losses, all_mini_accs\n",
    "    torch.manual_seed(SEED_VALUE)\n",
    "    torch.cuda.manual_seed(SEED_VALUE)\n",
    "    # initialize a dictionary to store training history\n",
    "    print(\"Starting Network training\")\n",
    "    model.to(DEVICE)\n",
    "\n",
    "    for e in range(epochs):\n",
    "        train_mini_batch_losses = []\n",
    "        train_mini_batch_accs = []\n",
    "\n",
    "        tq_dataloader = tqdm(train_dataloader)\n",
    "        model.train()\n",
    "\n",
    "        for (i, (images, labels)) in enumerate(tq_dataloader):\n",
    "            (images, labels) = (images.to(DEVICE, dtype=torch.float), labels.to(DEVICE))\n",
    "\n",
    "            #predict\n",
    "            pred = model(images)\n",
    "\n",
    "            #get the most likely label\n",
    "            pred_max = pred.argmax(dim=1)\n",
    "\n",
    "            #calculate loss\n",
    "            loss = lossFunc(pred, labels)\n",
    "\n",
    "            opt.zero_grad()\n",
    "\n",
    "            loss.backward()\n",
    "\n",
    "            opt.step()\n",
    "\n",
    "            #calculate accuracy\n",
    "            correct = (pred_max == labels).sum()\n",
    "            acc = correct / images.size(0)\n",
    "            train_acc = acc*100\n",
    "\n",
    "            train_mini_batch_losses.append(loss.data.item())\n",
    "            train_mini_batch_accs.append(train_acc.item())\n",
    "\n",
    "            now = datetime.utcnow().strftime(\"%Y%m%d-%H:%M:%S\")\n",
    "            tq_dataloader.set_description(\"[LOG {}] epoch: {}, batch:{} train-loss; {}, train-accuracy; {}\".format(str(now), str(e + 1), str(i + 1), str(loss.item()), str(train_acc.item())))\n",
    "\n",
    "\n",
    "        #calculate metrics for the epoch\n",
    "        train_epoch_loss = np.mean(train_mini_batch_losses)\n",
    "        train_epoch_acc = np.mean(train_mini_batch_accs)\n",
    "\n",
    "        all_mini_losses = all_mini_losses + train_mini_batch_losses\n",
    "        all_mini_accs = all_mini_accs + train_mini_batch_accs\n",
    "\n",
    "        train_epoch_losses.append(train_epoch_loss)\n",
    "        accuracy_epochs.append(train_epoch_acc)\n",
    "\n",
    "        now = datetime.utcnow().strftime(\"%Y%m%d-%H:%M:%S\")\n",
    "        print(\"[LOG {}] epoch: {}, train-loss; {}, accuracy; {}\".format(str(now), str(e + 1), str(train_epoch_loss), str(train_epoch_acc)))\n",
    "\n",
    "        model_name = \"model_epoch_{}.pth\".format(str(e + 1))\n",
    "\n",
    "        #save the model after every epoch\n",
    "        torch.save(model, model_name)\n",
    "\n",
    "        if val_dataloader is not None:\n",
    "            model.eval()\n",
    "            print(\"Validating...\")\n",
    "            val_mini_batch_acc = []\n",
    "            val_mini_batch_losses = []\n",
    "            #Evaulate on the val set\n",
    "            with torch.no_grad():\n",
    "                for (images, labels) in tqdm(val_dataloader):\n",
    "                    #Mostly the same as in the training loop\n",
    "                    images, labels = images.to(DEVICE, dtype=torch.float), labels.to(DEVICE)\n",
    "                    pred = model(images)\n",
    "                    pred_max = torch.argmax(pred, dim=1)\n",
    "                    loss = lossFunc(pred, labels)\n",
    "                    correct = (pred_max == labels).sum()\n",
    "                    acc = correct / images.size(0)\n",
    "                    acc = acc*100\n",
    "                    val_mini_batch_acc.append(acc.item())\n",
    "                    val_mini_batch_losses.append(loss.data.item())\n",
    "\n",
    "            # compute the average validation loss and accuracy for this epoch\n",
    "            val_loss = np.mean(val_mini_batch_losses)\n",
    "            val_acc = np.mean(val_mini_batch_acc)\n",
    "\n",
    "            val_losses.append(val_loss)\n",
    "            val_accs.append(val_acc)\n",
    "\n",
    "            print(\"Validation step done. Loss: \", val_loss, \"Accuracy: \", val_acc)\n",
    "\n",
    "        # print the training and validation loss and accuracy for this epoch\n",
    "        now = datetime.utcnow().strftime(\"%Y%m%d-%H:%M:%S\")\n",
    "        print(\"[LOG {}] epoch: {}, train-loss: {:.4f}, train-accuracy: {:.4f}\".format(now, e+1, train_epoch_loss, train_epoch_acc))\n",
    "\n",
    "    return train_epoch_losses, accuracy_epochs\n"
   ],
   "metadata": {
    "collapsed": false,
    "ExecuteTime": {
     "end_time": "2023-05-21T20:13:34.651840100Z",
     "start_time": "2023-05-21T20:13:34.635839700Z"
    }
   }
  },
  {
   "cell_type": "markdown",
   "source": [
    "## Splitting the Dataset\n",
    "\n",
    "Split data into training and validation sets using train_test_split from scikit-learn. Stratified split ensures that the distribution of classes is the same in both sets."
   ],
   "metadata": {
    "collapsed": false
   }
  },
  {
   "cell_type": "code",
   "execution_count": 96,
   "outputs": [
    {
     "name": "stdout",
     "output_type": "stream",
     "text": [
      "Train:  380 Val:  43\n"
     ]
    }
   ],
   "source": [
    "from sklearn.model_selection import train_test_split\n",
    "\n",
    "train_dataset = CustomImageDataset(training_data_transformations)\n",
    "val_dataset = CustomImageDataset(validation_transform)\n",
    "\n",
    "train_indices, val_indices, _, _ = train_test_split(\n",
    "    range(len(train_dataset)),\n",
    "    train_dataset.all_label,\n",
    "    stratify=train_dataset.all_label,\n",
    "    test_size=0.1,\n",
    "    random_state=SEED_VALUE\n",
    ")\n",
    "\n",
    "#Do the split with seeded indices\n",
    "train_dataset = torch.utils.data.Subset(train_dataset, train_indices)\n",
    "val_dataset = torch.utils.data.Subset(val_dataset, val_indices)\n",
    "\n",
    "train_dataloader = torch.utils.data.DataLoader(train_dataset, batch_size=64, shuffle=True)\n",
    "val_dataloader = torch.utils.data.DataLoader(val_dataset, batch_size=64, shuffle=True)\n",
    "\n",
    "print(\"Train: \", len(train_dataloader), \"Val: \", len(val_dataloader))"
   ],
   "metadata": {
    "collapsed": false,
    "ExecuteTime": {
     "end_time": "2023-05-21T20:13:48.588145Z",
     "start_time": "2023-05-21T20:13:48.056514900Z"
    }
   }
  },
  {
   "cell_type": "markdown",
   "source": [
    "## Train with Split data"
   ],
   "metadata": {
    "collapsed": false
   }
  },
  {
   "cell_type": "code",
   "execution_count": 14,
   "outputs": [
    {
     "name": "stderr",
     "output_type": "stream",
     "text": [
      "C:\\Users\\aytoi\\miniconda3\\envs\\ml-notebooks\\lib\\site-packages\\torchvision\\models\\_utils.py:208: UserWarning: The parameter 'pretrained' is deprecated since 0.13 and may be removed in the future, please use 'weights' instead.\n",
      "  warnings.warn(\n",
      "C:\\Users\\aytoi\\miniconda3\\envs\\ml-notebooks\\lib\\site-packages\\torchvision\\models\\_utils.py:223: UserWarning: Arguments other than a weight enum or `None` for 'weights' are deprecated since 0.13 and may be removed in the future. The current behavior is equivalent to passing `weights=ResNet34_Weights.IMAGENET1K_V1`. You can also use `weights=ResNet34_Weights.DEFAULT` to get the most up-to-date weights.\n",
      "  warnings.warn(msg)\n"
     ]
    },
    {
     "name": "stdout",
     "output_type": "stream",
     "text": [
      "Starting Network training\n"
     ]
    },
    {
     "name": "stderr",
     "output_type": "stream",
     "text": [
      "  0%|          | 0/380 [00:00<?, ?it/s]C:\\Users\\aytoi\\miniconda3\\envs\\ml-notebooks\\lib\\site-packages\\torchvision\\transforms\\functional.py:1603: UserWarning: The default value of the antialias parameter of all the resizing transforms (Resize(), RandomResizedCrop(), etc.) will change from None to True in v0.17, in order to be consistent across the PIL and Tensor backends. To suppress this warning, directly pass antialias=True (recommended, future default), antialias=None (current default, which means False for Tensors and True for PIL), or antialias=False (only works on Tensors - PIL will still use antialiasing). This also applies if you are using the inference transforms from the models weights: update the call to weights.transforms(antialias=True).\n",
      "  warnings.warn(\n",
      "[LOG 20230521-12:38:04] epoch: 1, batch:380 train-loss; 0.4677598774433136, train-accuracy; 88.63636779785156: 100%|██████████| 380/380 [09:06<00:00,  1.44s/it]\n"
     ]
    },
    {
     "name": "stdout",
     "output_type": "stream",
     "text": [
      "[LOG 20230521-12:38:04] epoch: 1, train-loss; 0.707400210789944, accuracy; 78.6296351784154\n",
      "Validating...\n"
     ]
    },
    {
     "name": "stderr",
     "output_type": "stream",
     "text": [
      "100%|██████████| 43/43 [00:29<00:00,  1.47it/s]\n"
     ]
    },
    {
     "name": "stdout",
     "output_type": "stream",
     "text": [
      "Validation step done. Loss:  0.2083393706138744 Accuracy:  93.25339153201081\n",
      "[LOG 20230521-12:38:33] epoch: 1, train-loss: 0.7074, train-accuracy: 78.6296\n"
     ]
    },
    {
     "name": "stderr",
     "output_type": "stream",
     "text": [
      "[LOG 20230521-12:47:30] epoch: 2, batch:380 train-loss; 0.5363180637359619, train-accuracy; 84.09091186523438: 100%|██████████| 380/380 [08:57<00:00,  1.41s/it]\n"
     ]
    },
    {
     "name": "stdout",
     "output_type": "stream",
     "text": [
      "[LOG 20230521-12:47:30] epoch: 2, train-loss; 0.39162699274326623, accuracy; 89.02474582069799\n",
      "Validating...\n"
     ]
    },
    {
     "name": "stderr",
     "output_type": "stream",
     "text": [
      "100%|██████████| 43/43 [00:28<00:00,  1.50it/s]\n"
     ]
    },
    {
     "name": "stdout",
     "output_type": "stream",
     "text": [
      "Validation step done. Loss:  0.20336942790552628 Accuracy:  92.99903106689453\n",
      "[LOG 20230521-12:47:59] epoch: 2, train-loss: 0.3916, train-accuracy: 89.0247\n"
     ]
    },
    {
     "name": "stderr",
     "output_type": "stream",
     "text": [
      "[LOG 20230521-12:56:59] epoch: 3, batch:380 train-loss; 0.3303949534893036, train-accuracy; 88.63636779785156: 100%|██████████| 380/380 [09:00<00:00,  1.42s/it]\n"
     ]
    },
    {
     "name": "stdout",
     "output_type": "stream",
     "text": [
      "[LOG 20230521-12:56:59] epoch: 3, train-loss; 0.32072435739009003, accuracy; 90.78012859946803\n",
      "Validating...\n"
     ]
    },
    {
     "name": "stderr",
     "output_type": "stream",
     "text": [
      "100%|██████████| 43/43 [00:28<00:00,  1.49it/s]\n"
     ]
    },
    {
     "name": "stdout",
     "output_type": "stream",
     "text": [
      "Validation step done. Loss:  0.16610429895132087 Accuracy:  95.96656976744185\n",
      "[LOG 20230521-12:57:28] epoch: 3, train-loss: 0.3207, train-accuracy: 90.7801\n"
     ]
    },
    {
     "name": "stderr",
     "output_type": "stream",
     "text": [
      "[LOG 20230521-13:06:30] epoch: 4, batch:380 train-loss; 0.555154025554657, train-accuracy; 81.81818389892578: 100%|██████████| 380/380 [09:01<00:00,  1.43s/it]\n"
     ]
    },
    {
     "name": "stdout",
     "output_type": "stream",
     "text": [
      "[LOG 20230521-13:06:30] epoch: 4, train-loss; 0.2871159098062076, accuracy; 91.82715311552349\n",
      "Validating...\n"
     ]
    },
    {
     "name": "stderr",
     "output_type": "stream",
     "text": [
      "100%|██████████| 43/43 [00:28<00:00,  1.50it/s]\n"
     ]
    },
    {
     "name": "stdout",
     "output_type": "stream",
     "text": [
      "Validation step done. Loss:  0.11597886596140343 Accuracy:  96.40261627906976\n",
      "[LOG 20230521-13:06:59] epoch: 4, train-loss: 0.2871, train-accuracy: 91.8272\n"
     ]
    },
    {
     "name": "stderr",
     "output_type": "stream",
     "text": [
      "[LOG 20230521-13:15:59] epoch: 5, batch:380 train-loss; 0.5817199349403381, train-accuracy; 90.90909576416016: 100%|██████████| 380/380 [09:00<00:00,  1.42s/it]\n"
     ]
    },
    {
     "name": "stdout",
     "output_type": "stream",
     "text": [
      "[LOG 20230521-13:15:59] epoch: 5, train-loss; 0.26773727544044196, accuracy; 92.51719498885305\n",
      "Validating...\n"
     ]
    },
    {
     "name": "stderr",
     "output_type": "stream",
     "text": [
      "100%|██████████| 43/43 [00:28<00:00,  1.49it/s]\n"
     ]
    },
    {
     "name": "stdout",
     "output_type": "stream",
     "text": [
      "Validation step done. Loss:  0.14743881806904494 Accuracy:  95.34883720930233\n",
      "[LOG 20230521-13:16:28] epoch: 5, train-loss: 0.2677, train-accuracy: 92.5172\n"
     ]
    },
    {
     "name": "stderr",
     "output_type": "stream",
     "text": [
      "[LOG 20230521-13:25:30] epoch: 6, batch:380 train-loss; 0.29988792538642883, train-accuracy; 84.09091186523438: 100%|██████████| 380/380 [09:01<00:00,  1.43s/it]\n"
     ]
    },
    {
     "name": "stdout",
     "output_type": "stream",
     "text": [
      "[LOG 20230521-13:25:30] epoch: 6, train-loss; 0.2501025536440705, accuracy; 92.89398924175062\n",
      "Validating...\n"
     ]
    },
    {
     "name": "stderr",
     "output_type": "stream",
     "text": [
      "100%|██████████| 43/43 [00:29<00:00,  1.47it/s]"
     ]
    },
    {
     "name": "stdout",
     "output_type": "stream",
     "text": [
      "Validation step done. Loss:  0.09759654659171436 Accuracy:  97.38372093023256\n",
      "[LOG 20230521-13:25:59] epoch: 6, train-loss: 0.2501, train-accuracy: 92.8940\n"
     ]
    },
    {
     "name": "stderr",
     "output_type": "stream",
     "text": [
      "\n"
     ]
    },
    {
     "data": {
      "text/plain": "([0.707400210789944,\n  0.39162699274326623,\n  0.32072435739009003,\n  0.2871159098062076,\n  0.26773727544044196,\n  0.2501025536440705],\n [78.6296351784154,\n  89.02474582069799,\n  90.78012859946803,\n  91.82715311552349,\n  92.51719498885305,\n  92.89398924175062])"
     },
     "execution_count": 14,
     "metadata": {},
     "output_type": "execute_result"
    }
   ],
   "source": [
    "#Train model with validation set\n",
    "model, opt = create_model()\n",
    "train_model(6, model, train_dataloader, val_dataloader, lossFunc, opt)"
   ],
   "metadata": {
    "collapsed": false,
    "ExecuteTime": {
     "end_time": "2023-05-21T13:25:59.836341300Z",
     "start_time": "2023-05-21T12:28:54.409385900Z"
    }
   }
  },
  {
   "cell_type": "markdown",
   "source": [
    "## Plot loss and accuracy"
   ],
   "metadata": {
    "collapsed": false
   }
  },
  {
   "cell_type": "code",
   "execution_count": 19,
   "outputs": [
    {
     "data": {
      "text/plain": "<Figure size 640x480 with 1 Axes>",
      "image/png": "[encoded data removed]"
     },
     "metadata": {},
     "output_type": "display_data"
    }
   ],
   "source": [
    "# prepare plot\n",
    "fig = plt.figure()\n",
    "ax = fig.add_subplot(111)\n",
    "\n",
    "# add grid\n",
    "ax.grid(linestyle='dotted')\n",
    "\n",
    "# plot the training epochs vs. the epochs' classification error\n",
    "ax.plot(np.array(range(1, len(train_epoch_losses)+1)), train_epoch_losses, label=\"Train Loss per Epoch (orange)\")\n",
    "ax.plot(np.array(range(1, len(val_losses)+1)), val_losses, label=\"Validation Loss per Epoch (orange)\")\n",
    "\n",
    "# add axis legends\n",
    "ax.set_xlabel(\"[epochs]\", fontsize=10)\n",
    "\n",
    "# set plot legendS\n",
    "\n",
    "plt.legend(loc=\"best\", numpoints=1, fancybox=True)\n",
    "plt.savefig('loss_6ep.png')"
   ],
   "metadata": {
    "collapsed": false,
    "ExecuteTime": {
     "end_time": "2023-05-21T13:30:14.362736300Z",
     "start_time": "2023-05-21T13:30:14.091500600Z"
    }
   }
  },
  {
   "cell_type": "code",
   "execution_count": 17,
   "outputs": [
    {
     "data": {
      "text/plain": "<Figure size 640x480 with 1 Axes>",
      "image/png": "[encoded data removed]"
     },
     "metadata": {},
     "output_type": "display_data"
    }
   ],
   "source": [
    "# prepare plot\n",
    "fig = plt.figure()\n",
    "ax = fig.add_subplot(111)\n",
    "\n",
    "# add grid\n",
    "ax.grid(linestyle='dotted')\n",
    "\n",
    "# plot the training epochs vs. the epochs' classification error\n",
    "ax.plot(np.array(range(1, len(accuracy_epochs)+1)), accuracy_epochs, label='Test Accuracy per Epoch (blue)')\n",
    "ax.plot(np.array(range(1, len(val_accs)+1)), val_accs, label=\"Validation Accuracy per Epoch (orange)\")\n",
    "\n",
    "# add axis legends\n",
    "ax.set_xlabel(\"[epochs]\", fontsize=10)\n",
    "\n",
    "# set plot legendS\n",
    "\n",
    "plt.legend(loc=\"best\", numpoints=1, fancybox=True)\n",
    "plt.savefig('accuracy_6ep.png')"
   ],
   "metadata": {
    "collapsed": false,
    "ExecuteTime": {
     "end_time": "2023-05-21T13:28:58.991139400Z",
     "start_time": "2023-05-21T13:28:58.740088600Z"
    }
   }
  },
  {
   "cell_type": "code",
   "execution_count": null,
   "outputs": [],
   "source": [
    "#Predictions for confusion matrix\n",
    "y_true = []\n",
    "y_pred = []\n",
    "\n",
    "for i in tqdm(range(len(val_dataset))):\n",
    "    x, y = val_dataset[i]\n",
    "    x = x.to(DEVICE, dtype=torch.float).unsqueeze(0)\n",
    "    pred = model(x)\n",
    "    batch_predictions = torch.argmax(pred, dim=1)\n",
    "\n",
    "    y_true.append(classes_idx[y])\n",
    "    y_pred.append(classes_idx[batch_predictions[0].item()])"
   ],
   "metadata": {
    "collapsed": false
   }
  },
  {
   "cell_type": "code",
   "execution_count": null,
   "outputs": [],
   "source": [
    "\n",
    "from sklearn.metrics import confusion_matrix\n",
    "import matplotlib.pyplot as plt\n",
    "import seaborn as sns\n",
    "\n",
    "confusion_mtx = confusion_matrix(y_true, y_pred)\n",
    "\n",
    "# Plot confusion matrix\n",
    "plt.figure(figsize=(10, 10))\n",
    "sns.heatmap(confusion_mtx, annot=True, fmt='d', cmap='Greens', xticklabels=CLASSES, yticklabels=CLASSES)\n",
    "\n",
    "plt.xlabel('Predicted Label')\n",
    "plt.ylabel('True Label')\n",
    "plt.savefig(\"confusion.png\")\n",
    "plt.show()"
   ],
   "metadata": {
    "collapsed": false
   }
  },
  {
   "cell_type": "code",
   "execution_count": 116,
   "outputs": [
    {
     "data": {
      "text/plain": "<Figure size 1200x1200 with 64 Axes>",
      "image/png": "[encoded data removed]"
     },
     "metadata": {},
     "output_type": "display_data"
    }
   ],
   "source": [
    "# Get the first convolutional layer\n",
    "first_conv_layer = model.conv1\n",
    "\n",
    "# Get the weights of the first convolutional layer\n",
    "weights = first_conv_layer.weight.data.cpu().numpy()\n",
    "\n",
    "# Get the number of filters\n",
    "num_filters = weights.shape[0]\n",
    "\n",
    "# Plot the filters\n",
    "fig = plt.figure(figsize=(12, 12))\n",
    "\n",
    "# We'll arrange the plots in a grid with sqrt(num_filters) rows and columns\n",
    "rows_cols = int(np.sqrt(num_filters))\n",
    "\n",
    "for i in range(rows_cols * rows_cols):\n",
    "    ax = fig.add_subplot(rows_cols, rows_cols, i+1)\n",
    "\n",
    "    # Display each channel separately, because each channel responds to different kinds of features\n",
    "    for channel in range(11): # for each RGB color channel\n",
    "        ax.imshow(weights[i, channel, :, :], cmap='gray')\n",
    "\n",
    "    # Remove grid and axis labels\n",
    "    ax.axis('off')\n",
    "\n",
    "plt.show()\n"
   ],
   "metadata": {
    "collapsed": false,
    "ExecuteTime": {
     "end_time": "2023-05-21T21:33:27.926231700Z",
     "start_time": "2023-05-21T21:33:23.828727100Z"
    }
   }
  },
  {
   "cell_type": "code",
   "execution_count": 55,
   "outputs": [],
   "source": [
    "train_dataset = CustomImageDataset(training_data_transformations)\n",
    "train_dataloader = torch.utils.data.DataLoader(train_dataset, batch_size=64, shuffle=True)\n",
    "\n",
    "#Set val dataloader to none, since we skip that step here\n",
    "val_dataloader = None"
   ],
   "metadata": {
    "collapsed": false,
    "ExecuteTime": {
     "end_time": "2023-05-21T17:05:43.124989700Z",
     "start_time": "2023-05-21T17:05:42.973748100Z"
    }
   }
  },
  {
   "cell_type": "markdown",
   "source": [
    "# Train with full dataset for test set classification"
   ],
   "metadata": {
    "collapsed": false
   }
  },
  {
   "cell_type": "code",
   "execution_count": 97,
   "outputs": [
    {
     "name": "stderr",
     "output_type": "stream",
     "text": [
      "C:\\Users\\aytoi\\miniconda3\\envs\\ml-notebooks\\lib\\site-packages\\torchvision\\models\\_utils.py:208: UserWarning: The parameter 'pretrained' is deprecated since 0.13 and may be removed in the future, please use 'weights' instead.\n",
      "  warnings.warn(\n",
      "C:\\Users\\aytoi\\miniconda3\\envs\\ml-notebooks\\lib\\site-packages\\torchvision\\models\\_utils.py:223: UserWarning: Arguments other than a weight enum or `None` for 'weights' are deprecated since 0.13 and may be removed in the future. The current behavior is equivalent to passing `weights=ResNet50_Weights.IMAGENET1K_V1`. You can also use `weights=ResNet50_Weights.DEFAULT` to get the most up-to-date weights.\n",
      "  warnings.warn(msg)\n"
     ]
    },
    {
     "name": "stdout",
     "output_type": "stream",
     "text": [
      "Starting Network training\n"
     ]
    },
    {
     "name": "stderr",
     "output_type": "stream",
     "text": [
      "  0%|          | 0/380 [00:00<?, ?it/s]C:\\Users\\aytoi\\miniconda3\\envs\\ml-notebooks\\lib\\site-packages\\torchvision\\transforms\\functional.py:1603: UserWarning: The default value of the antialias parameter of all the resizing transforms (Resize(), RandomResizedCrop(), etc.) will change from None to True in v0.17, in order to be consistent across the PIL and Tensor backends. To suppress this warning, directly pass antialias=True (recommended, future default), antialias=None (current default, which means False for Tensors and True for PIL), or antialias=False (only works on Tensors - PIL will still use antialiasing). This also applies if you are using the inference transforms from the models weights: update the call to weights.transforms(antialias=True).\n",
      "  warnings.warn(\n",
      "[LOG 20230521-20:25:24] epoch: 1, batch:380 train-loss; 0.36138927936553955, train-accuracy; 84.09091186523438: 100%|██████████| 380/380 [10:09<00:00,  1.60s/it]\n"
     ]
    },
    {
     "name": "stdout",
     "output_type": "stream",
     "text": [
      "[LOG 20230521-20:25:24] epoch: 1, train-loss; 0.4821449343703295, accuracy; 84.96635766280325\n",
      "Validating...\n"
     ]
    },
    {
     "name": "stderr",
     "output_type": "stream",
     "text": [
      "100%|██████████| 43/43 [00:30<00:00,  1.42it/s]\n"
     ]
    },
    {
     "name": "stdout",
     "output_type": "stream",
     "text": [
      "Validation step done. Loss:  0.18391225296397543 Accuracy:  93.83478688084801\n",
      "[LOG 20230521-20:25:54] epoch: 1, train-loss: 0.4821, train-accuracy: 84.9664\n"
     ]
    },
    {
     "name": "stderr",
     "output_type": "stream",
     "text": [
      "[LOG 20230521-20:35:47] epoch: 2, batch:380 train-loss; 0.16719554364681244, train-accuracy; 90.90909576416016: 100%|██████████| 380/380 [09:52<00:00,  1.56s/it]\n"
     ]
    },
    {
     "name": "stdout",
     "output_type": "stream",
     "text": [
      "[LOG 20230521-20:35:47] epoch: 2, train-loss; 0.2926972917820278, accuracy; 91.04515551516884\n",
      "Validating...\n"
     ]
    },
    {
     "name": "stderr",
     "output_type": "stream",
     "text": [
      "100%|██████████| 43/43 [00:29<00:00,  1.46it/s]\n"
     ]
    },
    {
     "name": "stdout",
     "output_type": "stream",
     "text": [
      "Validation step done. Loss:  0.16434505313288333 Accuracy:  94.02858538960301\n",
      "[LOG 20230521-20:36:17] epoch: 2, train-loss: 0.2927, train-accuracy: 91.0452\n"
     ]
    },
    {
     "name": "stderr",
     "output_type": "stream",
     "text": [
      "[LOG 20230521-20:40:31] epoch: 3, batch:162 train-loss; 0.12450270354747772, train-accuracy; 95.3125:  43%|████▎     | 162/380 [04:15<05:43,  1.58s/it]\n"
     ]
    },
    {
     "ename": "KeyboardInterrupt",
     "evalue": "",
     "output_type": "error",
     "traceback": [
      "\u001B[1;31m---------------------------------------------------------------------------\u001B[0m",
      "\u001B[1;31mKeyboardInterrupt\u001B[0m                         Traceback (most recent call last)",
      "Cell \u001B[1;32mIn[97], line 3\u001B[0m\n\u001B[0;32m      1\u001B[0m model, opt \u001B[38;5;241m=\u001B[39m create_model()\n\u001B[0;32m      2\u001B[0m \u001B[38;5;66;03m#retrain model on full dataset for submissions model\u001B[39;00m\n\u001B[1;32m----> 3\u001B[0m \u001B[43mtrain_model\u001B[49m\u001B[43m(\u001B[49m\u001B[38;5;241;43m6\u001B[39;49m\u001B[43m,\u001B[49m\u001B[43m \u001B[49m\u001B[43mmodel\u001B[49m\u001B[43m,\u001B[49m\u001B[43m \u001B[49m\u001B[43mtrain_dataloader\u001B[49m\u001B[43m,\u001B[49m\u001B[43m \u001B[49m\u001B[43mval_dataloader\u001B[49m\u001B[43m,\u001B[49m\u001B[43m \u001B[49m\u001B[43mlossFunc\u001B[49m\u001B[43m,\u001B[49m\u001B[43m \u001B[49m\u001B[43mopt\u001B[49m\u001B[43m)\u001B[49m\n",
      "Cell \u001B[1;32mIn[95], line 16\u001B[0m, in \u001B[0;36mtrain_model\u001B[1;34m(epochs, model, train_dataloader, val_dataloader, lossFunc, opt)\u001B[0m\n\u001B[0;32m     13\u001B[0m tq_dataloader \u001B[38;5;241m=\u001B[39m tqdm(train_dataloader)\n\u001B[0;32m     14\u001B[0m model\u001B[38;5;241m.\u001B[39mtrain()\n\u001B[1;32m---> 16\u001B[0m \u001B[38;5;28;01mfor\u001B[39;00m (i, (images, labels)) \u001B[38;5;129;01min\u001B[39;00m \u001B[38;5;28menumerate\u001B[39m(tq_dataloader):\n\u001B[0;32m     17\u001B[0m     (images, labels) \u001B[38;5;241m=\u001B[39m (images\u001B[38;5;241m.\u001B[39mto(DEVICE, dtype\u001B[38;5;241m=\u001B[39mtorch\u001B[38;5;241m.\u001B[39mfloat), labels\u001B[38;5;241m.\u001B[39mto(DEVICE))\n\u001B[0;32m     18\u001B[0m     pred \u001B[38;5;241m=\u001B[39m model(images)\n",
      "File \u001B[1;32m~\\miniconda3\\envs\\ml-notebooks\\lib\\site-packages\\tqdm\\std.py:1178\u001B[0m, in \u001B[0;36mtqdm.__iter__\u001B[1;34m(self)\u001B[0m\n\u001B[0;32m   1175\u001B[0m time \u001B[38;5;241m=\u001B[39m \u001B[38;5;28mself\u001B[39m\u001B[38;5;241m.\u001B[39m_time\n\u001B[0;32m   1177\u001B[0m \u001B[38;5;28;01mtry\u001B[39;00m:\n\u001B[1;32m-> 1178\u001B[0m     \u001B[38;5;28;01mfor\u001B[39;00m obj \u001B[38;5;129;01min\u001B[39;00m iterable:\n\u001B[0;32m   1179\u001B[0m         \u001B[38;5;28;01myield\u001B[39;00m obj\n\u001B[0;32m   1180\u001B[0m         \u001B[38;5;66;03m# Update and possibly print the progressbar.\u001B[39;00m\n\u001B[0;32m   1181\u001B[0m         \u001B[38;5;66;03m# Note: does not call self.update(1) for speed optimisation.\u001B[39;00m\n",
      "File \u001B[1;32m~\\miniconda3\\envs\\ml-notebooks\\lib\\site-packages\\torch\\utils\\data\\dataloader.py:633\u001B[0m, in \u001B[0;36m_BaseDataLoaderIter.__next__\u001B[1;34m(self)\u001B[0m\n\u001B[0;32m    630\u001B[0m \u001B[38;5;28;01mif\u001B[39;00m \u001B[38;5;28mself\u001B[39m\u001B[38;5;241m.\u001B[39m_sampler_iter \u001B[38;5;129;01mis\u001B[39;00m \u001B[38;5;28;01mNone\u001B[39;00m:\n\u001B[0;32m    631\u001B[0m     \u001B[38;5;66;03m# TODO(https://github.com/pytorch/pytorch/issues/76750)\u001B[39;00m\n\u001B[0;32m    632\u001B[0m     \u001B[38;5;28mself\u001B[39m\u001B[38;5;241m.\u001B[39m_reset()  \u001B[38;5;66;03m# type: ignore[call-arg]\u001B[39;00m\n\u001B[1;32m--> 633\u001B[0m data \u001B[38;5;241m=\u001B[39m \u001B[38;5;28;43mself\u001B[39;49m\u001B[38;5;241;43m.\u001B[39;49m\u001B[43m_next_data\u001B[49m\u001B[43m(\u001B[49m\u001B[43m)\u001B[49m\n\u001B[0;32m    634\u001B[0m \u001B[38;5;28mself\u001B[39m\u001B[38;5;241m.\u001B[39m_num_yielded \u001B[38;5;241m+\u001B[39m\u001B[38;5;241m=\u001B[39m \u001B[38;5;241m1\u001B[39m\n\u001B[0;32m    635\u001B[0m \u001B[38;5;28;01mif\u001B[39;00m \u001B[38;5;28mself\u001B[39m\u001B[38;5;241m.\u001B[39m_dataset_kind \u001B[38;5;241m==\u001B[39m _DatasetKind\u001B[38;5;241m.\u001B[39mIterable \u001B[38;5;129;01mand\u001B[39;00m \\\n\u001B[0;32m    636\u001B[0m         \u001B[38;5;28mself\u001B[39m\u001B[38;5;241m.\u001B[39m_IterableDataset_len_called \u001B[38;5;129;01mis\u001B[39;00m \u001B[38;5;129;01mnot\u001B[39;00m \u001B[38;5;28;01mNone\u001B[39;00m \u001B[38;5;129;01mand\u001B[39;00m \\\n\u001B[0;32m    637\u001B[0m         \u001B[38;5;28mself\u001B[39m\u001B[38;5;241m.\u001B[39m_num_yielded \u001B[38;5;241m>\u001B[39m \u001B[38;5;28mself\u001B[39m\u001B[38;5;241m.\u001B[39m_IterableDataset_len_called:\n",
      "File \u001B[1;32m~\\miniconda3\\envs\\ml-notebooks\\lib\\site-packages\\torch\\utils\\data\\dataloader.py:677\u001B[0m, in \u001B[0;36m_SingleProcessDataLoaderIter._next_data\u001B[1;34m(self)\u001B[0m\n\u001B[0;32m    675\u001B[0m \u001B[38;5;28;01mdef\u001B[39;00m \u001B[38;5;21m_next_data\u001B[39m(\u001B[38;5;28mself\u001B[39m):\n\u001B[0;32m    676\u001B[0m     index \u001B[38;5;241m=\u001B[39m \u001B[38;5;28mself\u001B[39m\u001B[38;5;241m.\u001B[39m_next_index()  \u001B[38;5;66;03m# may raise StopIteration\u001B[39;00m\n\u001B[1;32m--> 677\u001B[0m     data \u001B[38;5;241m=\u001B[39m \u001B[38;5;28;43mself\u001B[39;49m\u001B[38;5;241;43m.\u001B[39;49m\u001B[43m_dataset_fetcher\u001B[49m\u001B[38;5;241;43m.\u001B[39;49m\u001B[43mfetch\u001B[49m\u001B[43m(\u001B[49m\u001B[43mindex\u001B[49m\u001B[43m)\u001B[49m  \u001B[38;5;66;03m# may raise StopIteration\u001B[39;00m\n\u001B[0;32m    678\u001B[0m     \u001B[38;5;28;01mif\u001B[39;00m \u001B[38;5;28mself\u001B[39m\u001B[38;5;241m.\u001B[39m_pin_memory:\n\u001B[0;32m    679\u001B[0m         data \u001B[38;5;241m=\u001B[39m _utils\u001B[38;5;241m.\u001B[39mpin_memory\u001B[38;5;241m.\u001B[39mpin_memory(data, \u001B[38;5;28mself\u001B[39m\u001B[38;5;241m.\u001B[39m_pin_memory_device)\n",
      "File \u001B[1;32m~\\miniconda3\\envs\\ml-notebooks\\lib\\site-packages\\torch\\utils\\data\\_utils\\fetch.py:51\u001B[0m, in \u001B[0;36m_MapDatasetFetcher.fetch\u001B[1;34m(self, possibly_batched_index)\u001B[0m\n\u001B[0;32m     49\u001B[0m         data \u001B[38;5;241m=\u001B[39m \u001B[38;5;28mself\u001B[39m\u001B[38;5;241m.\u001B[39mdataset\u001B[38;5;241m.\u001B[39m__getitems__(possibly_batched_index)\n\u001B[0;32m     50\u001B[0m     \u001B[38;5;28;01melse\u001B[39;00m:\n\u001B[1;32m---> 51\u001B[0m         data \u001B[38;5;241m=\u001B[39m [\u001B[38;5;28mself\u001B[39m\u001B[38;5;241m.\u001B[39mdataset[idx] \u001B[38;5;28;01mfor\u001B[39;00m idx \u001B[38;5;129;01min\u001B[39;00m possibly_batched_index]\n\u001B[0;32m     52\u001B[0m \u001B[38;5;28;01melse\u001B[39;00m:\n\u001B[0;32m     53\u001B[0m     data \u001B[38;5;241m=\u001B[39m \u001B[38;5;28mself\u001B[39m\u001B[38;5;241m.\u001B[39mdataset[possibly_batched_index]\n",
      "File \u001B[1;32m~\\miniconda3\\envs\\ml-notebooks\\lib\\site-packages\\torch\\utils\\data\\_utils\\fetch.py:51\u001B[0m, in \u001B[0;36m<listcomp>\u001B[1;34m(.0)\u001B[0m\n\u001B[0;32m     49\u001B[0m         data \u001B[38;5;241m=\u001B[39m \u001B[38;5;28mself\u001B[39m\u001B[38;5;241m.\u001B[39mdataset\u001B[38;5;241m.\u001B[39m__getitems__(possibly_batched_index)\n\u001B[0;32m     50\u001B[0m     \u001B[38;5;28;01melse\u001B[39;00m:\n\u001B[1;32m---> 51\u001B[0m         data \u001B[38;5;241m=\u001B[39m [\u001B[38;5;28;43mself\u001B[39;49m\u001B[38;5;241;43m.\u001B[39;49m\u001B[43mdataset\u001B[49m\u001B[43m[\u001B[49m\u001B[43midx\u001B[49m\u001B[43m]\u001B[49m \u001B[38;5;28;01mfor\u001B[39;00m idx \u001B[38;5;129;01min\u001B[39;00m possibly_batched_index]\n\u001B[0;32m     52\u001B[0m \u001B[38;5;28;01melse\u001B[39;00m:\n\u001B[0;32m     53\u001B[0m     data \u001B[38;5;241m=\u001B[39m \u001B[38;5;28mself\u001B[39m\u001B[38;5;241m.\u001B[39mdataset[possibly_batched_index]\n",
      "File \u001B[1;32m~\\miniconda3\\envs\\ml-notebooks\\lib\\site-packages\\torch\\utils\\data\\dataset.py:298\u001B[0m, in \u001B[0;36mSubset.__getitem__\u001B[1;34m(self, idx)\u001B[0m\n\u001B[0;32m    296\u001B[0m \u001B[38;5;28;01mif\u001B[39;00m \u001B[38;5;28misinstance\u001B[39m(idx, \u001B[38;5;28mlist\u001B[39m):\n\u001B[0;32m    297\u001B[0m     \u001B[38;5;28;01mreturn\u001B[39;00m \u001B[38;5;28mself\u001B[39m\u001B[38;5;241m.\u001B[39mdataset[[\u001B[38;5;28mself\u001B[39m\u001B[38;5;241m.\u001B[39mindices[i] \u001B[38;5;28;01mfor\u001B[39;00m i \u001B[38;5;129;01min\u001B[39;00m idx]]\n\u001B[1;32m--> 298\u001B[0m \u001B[38;5;28;01mreturn\u001B[39;00m \u001B[38;5;28;43mself\u001B[39;49m\u001B[38;5;241;43m.\u001B[39;49m\u001B[43mdataset\u001B[49m\u001B[43m[\u001B[49m\u001B[38;5;28;43mself\u001B[39;49m\u001B[38;5;241;43m.\u001B[39;49m\u001B[43mindices\u001B[49m\u001B[43m[\u001B[49m\u001B[43midx\u001B[49m\u001B[43m]\u001B[49m\u001B[43m]\u001B[49m\n",
      "Cell \u001B[1;32mIn[47], line 34\u001B[0m, in \u001B[0;36mCustomImageDataset.__getitem__\u001B[1;34m(self, idx)\u001B[0m\n\u001B[0;32m     32\u001B[0m label \u001B[38;5;241m=\u001B[39m \u001B[38;5;28mself\u001B[39m\u001B[38;5;241m.\u001B[39mall_label[idx]\n\u001B[0;32m     33\u001B[0m \u001B[38;5;66;03m# TODO Make if for file type - Handle test data\u001B[39;00m\n\u001B[1;32m---> 34\u001B[0m \u001B[38;5;28;01mwith\u001B[39;00m rio\u001B[38;5;241m.\u001B[39mopen(path_i, \u001B[38;5;124m\"\u001B[39m\u001B[38;5;124mr\u001B[39m\u001B[38;5;124m\"\u001B[39m) \u001B[38;5;28;01mas\u001B[39;00m d:\n\u001B[0;32m     35\u001B[0m     image \u001B[38;5;241m=\u001B[39m d\u001B[38;5;241m.\u001B[39mread([\u001B[38;5;241m2\u001B[39m,\u001B[38;5;241m3\u001B[39m,\u001B[38;5;241m4\u001B[39m,\u001B[38;5;241m5\u001B[39m,\u001B[38;5;241m6\u001B[39m,\u001B[38;5;241m7\u001B[39m,\u001B[38;5;241m8\u001B[39m,\u001B[38;5;241m9\u001B[39m,\u001B[38;5;241m11\u001B[39m,\u001B[38;5;241m12\u001B[39m,\u001B[38;5;241m13\u001B[39m])\u001B[38;5;241m.\u001B[39mastype(\u001B[38;5;28mfloat\u001B[39m)\n\u001B[0;32m     36\u001B[0m     image \u001B[38;5;241m=\u001B[39m reshape_as_image(image)\n",
      "File \u001B[1;32mrasterio\\_base.pyx:443\u001B[0m, in \u001B[0;36mrasterio._base.DatasetBase.__enter__\u001B[1;34m()\u001B[0m\n",
      "File \u001B[1;32m~\\miniconda3\\envs\\ml-notebooks\\lib\\contextlib.py:492\u001B[0m, in \u001B[0;36m_BaseExitStack.enter_context\u001B[1;34m(self, cm)\u001B[0m\n\u001B[0;32m    490\u001B[0m _cm_type \u001B[38;5;241m=\u001B[39m \u001B[38;5;28mtype\u001B[39m(cm)\n\u001B[0;32m    491\u001B[0m _exit \u001B[38;5;241m=\u001B[39m _cm_type\u001B[38;5;241m.\u001B[39m\u001B[38;5;21m__exit__\u001B[39m\n\u001B[1;32m--> 492\u001B[0m result \u001B[38;5;241m=\u001B[39m \u001B[43m_cm_type\u001B[49m\u001B[38;5;241;43m.\u001B[39;49m\u001B[38;5;21;43m__enter__\u001B[39;49m\u001B[43m(\u001B[49m\u001B[43mcm\u001B[49m\u001B[43m)\u001B[49m\n\u001B[0;32m    493\u001B[0m \u001B[38;5;28mself\u001B[39m\u001B[38;5;241m.\u001B[39m_push_cm_exit(cm, _exit)\n\u001B[0;32m    494\u001B[0m \u001B[38;5;28;01mreturn\u001B[39;00m result\n",
      "File \u001B[1;32m~\\miniconda3\\envs\\ml-notebooks\\lib\\site-packages\\rasterio\\env.py:287\u001B[0m, in \u001B[0;36mEnv.__enter__\u001B[1;34m(self)\u001B[0m\n\u001B[0;32m    284\u001B[0m         \u001B[38;5;28;01mif\u001B[39;00m val \u001B[38;5;129;01mis\u001B[39;00m \u001B[38;5;129;01mnot\u001B[39;00m \u001B[38;5;28;01mNone\u001B[39;00m:\n\u001B[0;32m    285\u001B[0m             local\u001B[38;5;241m.\u001B[39m_discovered_options[key] \u001B[38;5;241m=\u001B[39m val\n\u001B[1;32m--> 287\u001B[0m     defenv(\u001B[38;5;241m*\u001B[39m\u001B[38;5;241m*\u001B[39m\u001B[38;5;28mself\u001B[39m\u001B[38;5;241m.\u001B[39moptions)\n\u001B[0;32m    288\u001B[0m     \u001B[38;5;28mself\u001B[39m\u001B[38;5;241m.\u001B[39mcontext_options \u001B[38;5;241m=\u001B[39m {}\n\u001B[0;32m    289\u001B[0m \u001B[38;5;28;01melse\u001B[39;00m:\n",
      "File \u001B[1;32m~\\miniconda3\\envs\\ml-notebooks\\lib\\site-packages\\rasterio\\env.py:326\u001B[0m, in \u001B[0;36mdefenv\u001B[1;34m(**options)\u001B[0m\n\u001B[0;32m    323\u001B[0m     local\u001B[38;5;241m.\u001B[39m_env\u001B[38;5;241m.\u001B[39mupdate_config_options(\u001B[38;5;241m*\u001B[39m\u001B[38;5;241m*\u001B[39moptions)\n\u001B[0;32m    324\u001B[0m     log\u001B[38;5;241m.\u001B[39mdebug(\n\u001B[0;32m    325\u001B[0m         \u001B[38;5;124m\"\u001B[39m\u001B[38;5;124mNew GDAL environment \u001B[39m\u001B[38;5;132;01m%r\u001B[39;00m\u001B[38;5;124m created\u001B[39m\u001B[38;5;124m\"\u001B[39m, local\u001B[38;5;241m.\u001B[39m_env)\n\u001B[1;32m--> 326\u001B[0m \u001B[43mlocal\u001B[49m\u001B[38;5;241;43m.\u001B[39;49m\u001B[43m_env\u001B[49m\u001B[38;5;241;43m.\u001B[39;49m\u001B[43mstart\u001B[49m\u001B[43m(\u001B[49m\u001B[43m)\u001B[49m\n",
      "File \u001B[1;32mrasterio\\_env.pyx:361\u001B[0m, in \u001B[0;36mrasterio._env.GDALEnv.start\u001B[1;34m()\u001B[0m\n",
      "File \u001B[1;32mrasterio\\_env.pyx:373\u001B[0m, in \u001B[0;36mrasterio._env.GDALEnv.start\u001B[1;34m()\u001B[0m\n",
      "File \u001B[1;32mrasterio\\_env.pyx:266\u001B[0m, in \u001B[0;36mrasterio._env.GDALDataFinder.search_wheel\u001B[1;34m()\u001B[0m\n",
      "File \u001B[1;32m~\\miniconda3\\envs\\ml-notebooks\\lib\\genericpath.py:19\u001B[0m, in \u001B[0;36mexists\u001B[1;34m(path)\u001B[0m\n\u001B[0;32m     17\u001B[0m \u001B[38;5;250m\u001B[39m\u001B[38;5;124;03m\"\"\"Test whether a path exists.  Returns False for broken symbolic links\"\"\"\u001B[39;00m\n\u001B[0;32m     18\u001B[0m \u001B[38;5;28;01mtry\u001B[39;00m:\n\u001B[1;32m---> 19\u001B[0m     \u001B[43mos\u001B[49m\u001B[38;5;241;43m.\u001B[39;49m\u001B[43mstat\u001B[49m\u001B[43m(\u001B[49m\u001B[43mpath\u001B[49m\u001B[43m)\u001B[49m\n\u001B[0;32m     20\u001B[0m \u001B[38;5;28;01mexcept\u001B[39;00m (\u001B[38;5;167;01mOSError\u001B[39;00m, \u001B[38;5;167;01mValueError\u001B[39;00m):\n\u001B[0;32m     21\u001B[0m     \u001B[38;5;28;01mreturn\u001B[39;00m \u001B[38;5;28;01mFalse\u001B[39;00m\n",
      "\u001B[1;31mKeyboardInterrupt\u001B[0m: "
     ]
    }
   ],
   "source": [
    "model, opt = create_model()\n",
    "#retrain model on full dataset for submissions model\n",
    "#6 epochs where the best in that constellation\n",
    "train_model(6, model, train_dataloader, val_dataloader, lossFunc, opt)\n",
    "\n",
    "#Comment out if you don't want to load the model\n"
   ],
   "metadata": {
    "collapsed": false,
    "ExecuteTime": {
     "end_time": "2023-05-21T20:40:33.404387800Z",
     "start_time": "2023-05-21T20:15:14.137644600Z"
    }
   }
  },
  {
   "cell_type": "code",
   "execution_count": null,
   "outputs": [],
   "source": [
    "!wget https://cdn.discordapp.com/attachments/1006556110880264319/1109955377228939435/model_71.pth"
   ],
   "metadata": {
    "collapsed": false
   }
  },
  {
   "cell_type": "code",
   "execution_count": 115,
   "outputs": [],
   "source": [
    "model = torch.load(\"model_71.pth\")"
   ],
   "metadata": {
    "collapsed": false,
    "ExecuteTime": {
     "end_time": "2023-05-21T21:33:20.201617800Z",
     "start_time": "2023-05-21T21:33:20.044443Z"
    }
   }
  },
  {
   "cell_type": "code",
   "execution_count": 107,
   "outputs": [
    {
     "name": "stderr",
     "output_type": "stream",
     "text": [
      "100%|██████████| 4232/4232 [00:05<00:00, 833.14it/s]"
     ]
    },
    {
     "name": "stdout",
     "output_type": "stream",
     "text": [
      "[400.1496276855469, 628.8629760742188, 578.8707885742188, 943.4276123046875, 1826.243896484375, 2116.6650390625, 2205.976806640625, 2266.933349609375, 1487.6881103515625, 959.2361450195312, 0.1850024163722992] [209.14852905273438, 241.2066650390625, 301.10589599609375, 269.51385498046875, 420.2496032714844, 503.81842041015625, 598.0409545898438, 403.938232421875, 398.14324951171875, 342.4408264160156, 0.16295932233333588]\n"
     ]
    },
    {
     "name": "stderr",
     "output_type": "stream",
     "text": [
      "\n"
     ]
    }
   ],
   "source": [
    "#Since we have the testdata available we can calculate the means and stds for the test data. These differ greatly from the train set\n",
    "mean_testset = TestImageDataset(transform=transforms.ToTensor())\n",
    "means_test, stds_test = calculate_mean_and_std(mean_testset, num_channels=11)\n",
    "\n",
    "print(means_test, stds_test)"
   ],
   "metadata": {
    "collapsed": false,
    "ExecuteTime": {
     "end_time": "2023-05-21T20:45:07.256015Z",
     "start_time": "2023-05-21T20:45:02.153862600Z"
    }
   }
  },
  {
   "cell_type": "code",
   "execution_count": 108,
   "outputs": [],
   "source": [
    "#Tranform for test data with different normalization values calculated above\n",
    "\n",
    "test_data_transformations = transforms.Compose([\n",
    "    transforms.ToTensor(),\n",
    "    transforms.Normalize(mean = means_test, std = stds_test),\n",
    "    transforms.Resize(IMAGE_SIZE)\n",
    "])\n",
    "\n",
    "test_set = TestImageDataset(test_data_transformations)"
   ],
   "metadata": {
    "collapsed": false,
    "ExecuteTime": {
     "end_time": "2023-05-21T20:45:22.328902400Z",
     "start_time": "2023-05-21T20:45:22.271461400Z"
    }
   }
  },
  {
   "cell_type": "markdown",
   "source": [
    "## Evaluating the testset"
   ],
   "metadata": {
    "collapsed": false
   }
  },
  {
   "cell_type": "code",
   "execution_count": 109,
   "outputs": [
    {
     "name": "stderr",
     "output_type": "stream",
     "text": [
      "100%|██████████| 4232/4232 [00:35<00:00, 118.83it/s]\n"
     ]
    }
   ],
   "source": [
    "#Turn on evaluation mode\n",
    "model.eval()\n",
    "predictions = []\n",
    "with torch.no_grad():\n",
    "  for i in tqdm(range(len(test_set))):\n",
    "      pred = model(test_set[i][0].to(DEVICE, dtype=torch.float).unsqueeze(0))\n",
    "      batch_predictions = torch.argmax(pred, dim=1)\n",
    "      predictions.append((test_set[i][1], classes_idx[batch_predictions[0].item()]))"
   ],
   "metadata": {
    "collapsed": false,
    "ExecuteTime": {
     "end_time": "2023-05-21T20:46:02.326921600Z",
     "start_time": "2023-05-21T20:45:26.694969300Z"
    }
   }
  },
  {
   "cell_type": "code",
   "execution_count": 110,
   "outputs": [
    {
     "name": "stdout",
     "output_type": "stream",
     "text": [
      "tensor([5], device='cuda:0')\n"
     ]
    }
   ],
   "source": [
    "model.eval()\n",
    "#Classify one image to get a sense of the model performance.\n",
    "with torch.no_grad():\n",
    "    pred = model(test_set[0][0].to(DEVICE, dtype=torch.float).unsqueeze(0))\n",
    "    batch_predictions = torch.argmax(pred, dim=1)\n",
    "    print(batch_predictions)"
   ],
   "metadata": {
    "collapsed": false,
    "ExecuteTime": {
     "end_time": "2023-05-21T20:46:23.441012700Z",
     "start_time": "2023-05-21T20:46:23.332454Z"
    }
   }
  },
  {
   "cell_type": "code",
   "execution_count": 111,
   "outputs": [],
   "source": [
    "#write te submission file\n",
    "csv_file = \"71percent_recon.csv\"\n",
    "with open(csv_file, mode=\"w\", newline=\"\") as file:\n",
    "    writer = csv.writer(file, delimiter=\",\")\n",
    "    writer.writerow([\"test_id\", \"label\"])\n",
    "\n",
    "    for prediction in predictions:\n",
    "        writer.writerow(prediction)"
   ],
   "metadata": {
    "collapsed": false,
    "ExecuteTime": {
     "end_time": "2023-05-21T20:46:27.583736400Z",
     "start_time": "2023-05-21T20:46:27.533450Z"
    }
   }
  }
 ],
 "metadata": {
  "kernelspec": {
   "display_name": "Python 3",
   "language": "python",
   "name": "python3"
  },
  "language_info": {
   "codemirror_mode": {
    "name": "ipython",
    "version": 2
   },
   "file_extension": ".py",
   "mimetype": "text/x-python",
   "name": "python",
   "nbconvert_exporter": "python",
   "pygments_lexer": "ipython2",
   "version": "2.7.6"
  }
 },
 "nbformat": 4,
 "nbformat_minor": 0
}
